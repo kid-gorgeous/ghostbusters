{
 "cells": [
  {
   "cell_type": "markdown",
   "metadata": {},
   "source": [
    "### Behavioral Research\n",
    "---\n",
    "\n",
    "*Human Behavior* is described as the traditional code which maintains and regulated without reference of language or conscience mental  processes. The *kinesic reciprical* are certain behaviors which may occur in face-to-face groupings, but can also bound a frame of interactions, and can envolve language as a part of speaking and listening.\n",
    "\n",
    "A degree on involvement is required to maintain the frame of interaction. A local terrority is set in place a degree of boundaries. The Space will allow for speaking and emotional behavioral. These will include: affiliation, discourse, gestures, and speech. \n",
    "\n",
    "The behavior of listening will be brought into question for this study. Usually listeners and speakers act in synchrization, and refrains from faces of disparagment. To maintain report  "
   ]
  },
  {
   "cell_type": "markdown",
   "metadata": {},
   "source": [
    "https://learn.microsoft.com/en-us/dotnet/maui/mac-catalyst/cli\n"
   ]
  }
 ],
 "metadata": {
  "language_info": {
   "name": "python"
  }
 },
 "nbformat": 4,
 "nbformat_minor": 2
}
